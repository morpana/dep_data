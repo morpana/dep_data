{
 "cells": [
  {
   "cell_type": "code",
   "execution_count": 85,
   "metadata": {},
   "outputs": [
    {
     "data": {
      "text/plain": [
       "<module 'RMS' from 'RMS.py'>"
      ]
     },
     "execution_count": 85,
     "metadata": {},
     "output_type": "execute_result"
    }
   ],
   "source": [
    "reload(RMS)"
   ]
  },
  {
   "cell_type": "code",
   "execution_count": 86,
   "metadata": {},
   "outputs": [
    {
     "name": "stdout",
     "output_type": "stream",
     "text": [
      "/media/markus/OS/Users/Sefi/Dropbox/data/steps_fb_fs/0_falling/steps_fb_fs_0_falling_2017-09-14-23-28-38.bag\n",
      "2.174201625 front_back.dep front_side.dep\n",
      "1.69978071785 front_side.dep front_back.dep\n",
      "2.3512690946 front_back.dep front_side.dep\n",
      "1.72784563978 front_side.dep front_back.dep\n",
      "2.26366908012 front_back.dep front_side.dep\n",
      "1.80128249165 front_side.dep front_back.dep\n",
      "2.13438401454 front_back.dep front_side.dep\n",
      "1.79668598666 front_side.dep front_back.dep\n",
      "2.15263246897 front_back.dep front_side.dep\n",
      "6.02802333535 front_side.dep front_back.dep\n",
      "2.47042831589 front_back.dep front_side.dep\n",
      "6.02015850514 front_side.dep front_back.dep\n",
      "2.47431684334 front_back.dep front_side.dep\n",
      "/media/markus/OS/Users/Sefi/Dropbox/data/steps_fb_fs/0_rising/0_rising_2017-09-14-20-22-54.bag\n",
      "2.92778496394 front_back.dep front_side.dep\n",
      "2.57981416648 front_side.dep front_back.dep\n",
      "3.06940769349 front_back.dep front_side.dep\n",
      "2.63698224182 front_side.dep front_back.dep\n",
      "/media/markus/OS/Users/Sefi/Dropbox/data/steps_fb_fs/25000_falling/steps_fb_fs_25000_falling_2017-09-14-23-26-18.bag\n",
      "2.66232981105 front_back.dep front_side.dep\n",
      "2.61521793075 front_side.dep front_back.dep\n",
      "2.70444265767 front_back.dep front_side.dep\n",
      "2.49986545058 front_side.dep front_back.dep\n",
      "2.5945851541 front_back.dep front_side.dep\n",
      "2.53990000854 front_side.dep front_back.dep\n",
      "2.75956905634 front_back.dep front_side.dep\n",
      "2.53089698684 front_side.dep front_back.dep\n",
      "/media/markus/OS/Users/Sefi/Dropbox/data/steps_fb_fs/25000_rising/steps_fb_fs_25000_rising_2017-09-14-23-21-30.bag\n",
      "3.59078468708 front_back.dep front_side.dep\n",
      "3.44827684239 front_side.dep front_back.dep\n",
      "3.50950840242 front_back.dep front_side.dep\n",
      "3.4996646037 front_side.dep front_back.dep\n",
      "/media/markus/OS/Users/Sefi/Dropbox/data/steps_fb_fs/50000_rising/steps_fb_fs_50000_rising_2017-09-14-23-24-00.bag\n",
      "3.86719070365 front_back.dep front_side.dep\n",
      "3.61184533506 front_side.dep front_back.dep\n",
      "4.19481604445 front_back.dep front_side.dep\n",
      "3.67026061462 front_side.dep front_back.dep\n",
      "3.92050025157 front_back.dep front_side.dep\n",
      "3.65318972566 front_side.dep front_back.dep\n",
      "4.16235438271 front_back.dep front_side.dep\n",
      "/media/markus/OS/Users/Sefi/Dropbox/data/steps_fb_fs/neg25000_falling/steps_fb_fs_neg25000_falling_2017-09-14-23-30-35.bag\n",
      "3.42814738961 front_back.dep front_side.dep\n",
      "3.10565646264 front_side.dep front_back.dep\n",
      "3.44291584264 front_back.dep front_side.dep\n",
      "3.15226753967 front_side.dep front_back.dep\n",
      "3.4959637378 front_back.dep front_side.dep\n",
      "3.18551235891 front_side.dep front_back.dep\n",
      "3.56863111666 front_back.dep front_side.dep\n",
      "3.16165449222 front_side.dep front_back.dep\n",
      "6.40386969356 front_back.dep front_side.dep\n",
      "3.24790636781 front_side.dep front_back.dep\n",
      "3.515742586 front_back.dep front_side.dep\n",
      "3.15640680878 front_side.dep front_back.dep\n",
      "3.54497676987 front_back.dep front_side.dep\n",
      "/media/markus/OS/Users/Sefi/Dropbox/data/steps_fb_fs/neg25000_rising/steps_fb_fs_neg25000_rising_2017-09-14-23-34-38.bag\n",
      "2.03383678428 front_back.dep front_side.dep\n",
      "1.97102504362 front_side.dep front_back.dep\n",
      "2.02391624154 front_back.dep front_side.dep\n",
      "1.90413177865 front_side.dep front_back.dep\n",
      "1.95971344422 front_back.dep front_side.dep\n",
      "1.99801436947 front_side.dep front_back.dep\n",
      "/media/markus/OS/Users/Sefi/Dropbox/data/steps_fb_fs/neg50000_rising/steps_fb_fs_neg50000_rising_2017-09-14-23-32-47.bag\n",
      "3.03820947551 front_back.dep front_side.dep\n",
      "3.03695287152 front_side.dep front_back.dep\n",
      "2.99774439939 front_back.dep front_side.dep\n",
      "3.02002572988 front_side.dep front_back.dep\n",
      "2.99227202791 front_back.dep front_side.dep\n",
      "2.95919025956 front_side.dep front_back.dep\n",
      "3.03528655886 front_back.dep front_side.dep\n",
      "2.92888547927 front_side.dep front_back.dep\n",
      "2.99643177234 front_back.dep front_side.dep\n"
     ]
    }
   ],
   "source": [
    "t = RMS.allData()"
   ]
  },
  {
   "cell_type": "code",
   "execution_count": 87,
   "metadata": {},
   "outputs": [],
   "source": [
    "transitions = [item for sublist in t for item in sublist]"
   ]
  },
  {
   "cell_type": "code",
   "execution_count": 88,
   "metadata": {},
   "outputs": [],
   "source": [
    "dictionary = {}\n",
    "for t in transitions:\n",
    "    try:\n",
    "        dictionary[t.m]\n",
    "    except KeyError:\n",
    "        dictionary[t.m] = {}\n",
    "    try:\n",
    "        dictionary[t.m][(t.trigger_level,t.trigger_edge)]\n",
    "    except KeyError:\n",
    "        dictionary[t.m][(t.trigger_level,t.trigger_edge)] = []\n",
    "    dictionary[t.m][(t.trigger_level,t.trigger_edge)].append(t.rms)"
   ]
  },
  {
   "cell_type": "code",
   "execution_count": 92,
   "metadata": {},
   "outputs": [],
   "source": [
    "mapping = {\n",
    "    0:(0.0, True),\n",
    "    1:(25000.0, True),\n",
    "    2:(50000.0, True),\n",
    "    3:(25000.0, False),\n",
    "    4:(0.0, False),\n",
    "    5:(-25000.0, False),\n",
    "    6:(-50000.0, True),\n",
    "    7:(-25000.0, True),\n",
    "}"
   ]
  },
  {
   "cell_type": "code",
   "execution_count": 81,
   "metadata": {},
   "outputs": [],
   "source": [
    "import numpy as np"
   ]
  },
  {
   "cell_type": "code",
   "execution_count": 97,
   "metadata": {},
   "outputs": [],
   "source": [
    "data = []\n",
    "i = 0\n",
    "states = dictionary.keys()\n",
    "for state in states:\n",
    "    data.append([])\n",
    "    for j in range(8):\n",
    "        key = mapping[j]\n",
    "        data[i].append(np.array((dictionary[state][key])).mean())\n",
    "    i += 1"
   ]
  },
  {
   "cell_type": "code",
   "execution_count": 103,
   "metadata": {},
   "outputs": [],
   "source": [
    "data = np.array(data)\n",
    "np.savetxt('fb_to_fs.csv',data,delimiter=\",\",fmt=\"%.2f\")"
   ]
  },
  {
   "cell_type": "code",
   "execution_count": null,
   "metadata": {},
   "outputs": [],
   "source": []
  }
 ],
 "metadata": {
  "kernelspec": {
   "display_name": "Python 2",
   "language": "python",
   "name": "python2"
  },
  "language_info": {
   "codemirror_mode": {
    "name": "ipython",
    "version": 3
   },
   "file_extension": ".py",
   "mimetype": "text/x-python",
   "name": "python",
   "nbconvert_exporter": "python",
   "pygments_lexer": "ipython3",
   "version": "3.5.2"
  }
 },
 "nbformat": 4,
 "nbformat_minor": 2
}
