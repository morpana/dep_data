{
 "cells": [
  {
   "cell_type": "code",
   "execution_count": 109,
   "metadata": {
    "collapsed": true
   },
   "outputs": [],
   "source": [
    "# compare phase vs. percent transition\n",
    "# compare amplitude vs. percent transition"
   ]
  },
  {
   "cell_type": "code",
   "execution_count": 110,
   "metadata": {
    "collapsed": true
   },
   "outputs": [],
   "source": [
    "import sys\n",
    "import rosbag\n",
    "import matplotlib.pyplot as plt\n",
    "import numpy as np\n",
    "from matplotlib.font_manager import FontProperties"
   ]
  },
  {
   "cell_type": "code",
   "execution_count": 111,
   "metadata": {
    "collapsed": true
   },
   "outputs": [],
   "source": [
    "# obtain percent transition vs. time\n",
    "def getWeights(filename):\n",
    "    weights = []\n",
    "    times = []\n",
    "    bag = rosbag.Bag(filename)\n",
    "    for topic, msg, t in bag.read_messages(topics=[\"/roboy_dep/linear_combination\"]):\n",
    "        weights.append(msg.weights)\n",
    "        times.append(t.to_sec())\n",
    "    bag.close()\n",
    "    return np.array(weights), np.array(times)"
   ]
  },
  {
   "cell_type": "code",
   "execution_count": 112,
   "metadata": {
    "collapsed": true
   },
   "outputs": [],
   "source": [
    "# obtain data from file\n",
    "def getData(filename):\n",
    "    position_to_rads = 2.0*3.14159/(2000.0*53.0);\n",
    "    displacement_to_N = 0.237536\n",
    "    time = []\n",
    "    pos = []\n",
    "    force = []\n",
    "    bag = rosbag.Bag(filename)\n",
    "    for topic, msg, t in bag.read_messages(topics=[\"/roboy/middleware/MotorStatus\"]):\n",
    "        pos.append(msg.position)\n",
    "        force.append(msg.displacement)\n",
    "        time.append(t.to_sec())\n",
    "    bag.close()\n",
    "    time = np.array(time)\n",
    "    pos = np.array(pos)*position_to_rads\n",
    "    force = np.array(force)*displacement_to_N\n",
    "    return time, pos, force"
   ]
  },
  {
   "cell_type": "code",
   "execution_count": 113,
   "metadata": {
    "collapsed": true
   },
   "outputs": [],
   "source": [
    "def getPeriods(sequence):\n",
    "    zeros = []\n",
    "    for i in range(1,len(sequence)):\n",
    "        if sequence[i-1] < 0 and sequence[i] > 0:\n",
    "            zeros.append(i)\n",
    "    periods = []\n",
    "    for i in range(1,len(zeros)):\n",
    "        periods.append((zeros[i-1],zeros[i]))\n",
    "    return periods"
   ]
  },
  {
   "cell_type": "code",
   "execution_count": 114,
   "metadata": {
    "collapsed": true
   },
   "outputs": [],
   "source": [
    "def getMaxima(sequence,periods):\n",
    "    maxima = []\n",
    "    for period in periods:\n",
    "        maxima.append(np.argmax(sequence[period[0]:period[1]])+period[0])\n",
    "    return np.array(maxima)"
   ]
  },
  {
   "cell_type": "code",
   "execution_count": 115,
   "metadata": {
    "collapsed": true
   },
   "outputs": [],
   "source": [
    "def getEndIndex(weights):\n",
    "    a = weights[1:-1,1]-weights[2:,1]\n",
    "    for i in range(len(a)):\n",
    "        if a[i] > 0:\n",
    "            return i"
   ]
  },
  {
   "cell_type": "code",
   "execution_count": 116,
   "metadata": {
    "collapsed": true
   },
   "outputs": [],
   "source": [
    "#specify file, motors of interest, and reference motor\n",
    "#filename = \"/home/roboy/dep_data/data/combination/10FB04FS_04FB10FS_200s_2017-10-18-12-50-31.bag\"\n",
    "filename = \"/home/roboy/dep_data/data/combination/10FB04SD_04FB10SD_200s_2017-10-18-12-55-03.bag\"\n",
    "muscle = 1\n",
    "ref_motor = 5"
   ]
  },
  {
   "cell_type": "code",
   "execution_count": 117,
   "metadata": {
    "collapsed": true
   },
   "outputs": [],
   "source": [
    "muscle_to_motor = [0, 1, 3, 12, 10, 5, 4, 0, 0, 0, 0, 0, 0, 0]\n",
    "motor_to_muscle = [0, 1, 0, 2, 6, 5, 0, 0, 0, 0, 4, 0, 3, 0]\n",
    "color_pallette = ['#2274A5', '#B4656F', '#4E937A', '#F3D34A', '#A11692', '#F75C03', '#F1C40F', '#D90368', '#00CC66', '#540B0E', '#2274A5', '#B4656F', '#4E937A', '#F3D34A']"
   ]
  },
  {
   "cell_type": "code",
   "execution_count": 118,
   "metadata": {
    "collapsed": true
   },
   "outputs": [],
   "source": [
    "motor = muscle_to_motor[muscle]"
   ]
  },
  {
   "cell_type": "code",
   "execution_count": 119,
   "metadata": {
    "collapsed": true
   },
   "outputs": [],
   "source": [
    "weights, times = getWeights(filename)"
   ]
  },
  {
   "cell_type": "code",
   "execution_count": 120,
   "metadata": {
    "collapsed": true
   },
   "outputs": [],
   "source": [
    "time, pos, force = getData(filename)"
   ]
  },
  {
   "cell_type": "code",
   "execution_count": 121,
   "metadata": {
    "collapsed": true
   },
   "outputs": [],
   "source": [
    "offset = 0\n",
    "while((time[offset]-times[0])<0):\n",
    "    offset += 1\n",
    "i_start = offset\n",
    "i_end = offset + getEndIndex(weights)"
   ]
  },
  {
   "cell_type": "code",
   "execution_count": 122,
   "metadata": {
    "collapsed": true
   },
   "outputs": [],
   "source": [
    "ref = pos[:,ref_motor][i_start:i_end]\n",
    "muscle = pos[:,motor][i_start:i_end]\n",
    "\n",
    "periods = getPeriods(muscle)\n",
    "\n",
    "ref_peaks = getMaxima(ref,periods) #indices of maxima\n",
    "muscle_peaks = getMaxima(muscle,periods) #indices of maxima"
   ]
  },
  {
   "cell_type": "code",
   "execution_count": 123,
   "metadata": {
    "collapsed": true
   },
   "outputs": [],
   "source": [
    "avg_dist = np.ma.average((ref_peaks-np.roll(ref_peaks,1))[1:])\n",
    "#std_dist = np.std((ref_peaks-np.roll(ref_peaks,1))[1:])"
   ]
  },
  {
   "cell_type": "code",
   "execution_count": 126,
   "metadata": {
    "collapsed": true
   },
   "outputs": [],
   "source": [
    "y = ((muscle_peaks-ref_peaks))/avg_dist*360\n",
    "y = -1*y\n",
    "x = (weights[muscle_peaks-offset][:,1]-0.4)/0.6*100"
   ]
  },
  {
   "cell_type": "code",
   "execution_count": 127,
   "metadata": {},
   "outputs": [
    {
     "data": {
      "image/png": "[encoded data removed]",
      "text/plain": [
       "<matplotlib.figure.Figure at 0x7f499eed5990>"
      ]
     },
     "metadata": {},
     "output_type": "display_data"
    }
   ],
   "source": [
    "plt.figure(1)\n",
    "plt.plot(x,y,color=color_pallette[motor],linewidth=2,label=\"Muscle \"+str(motor_to_muscle[motor]))\n",
    "fontP = FontProperties()\n",
    "fontP.set_size('small')\n",
    "plt.figure(1)\n",
    "plt.ylabel(\"Relative phase (deg)\")\n",
    "plt.xlabel(\"Transition percentage (%)\")\n",
    "plt.legend(loc=\"lower center\", mode=\"expand\", ncol=6, prop=fontP)\n",
    "plt.show()"
   ]
  },
  {
   "cell_type": "code",
   "execution_count": null,
   "metadata": {
    "collapsed": true
   },
   "outputs": [],
   "source": []
  },
  {
   "cell_type": "markdown",
   "metadata": {},
   "source": [
    "# Older attempt"
   ]
  },
  {
   "cell_type": "code",
   "execution_count": 162,
   "metadata": {},
   "outputs": [
    {
     "name": "stdout",
     "output_type": "stream",
     "text": [
      "(2.3994739055633545, 200.33953666687012)\n"
     ]
    }
   ],
   "source": [
    "# need to remove bit of recording before and after actual experiment\n",
    "# inspect plot and provide approximate cutoff times\n",
    "t_start = time[offset]-time[0]+1.0\n",
    "t_end = time[offset+getEndIndex(weights)]-time[0]-1.0\n",
    "print(t_start,t_end)"
   ]
  },
  {
   "cell_type": "code",
   "execution_count": 161,
   "metadata": {
    "collapsed": true
   },
   "outputs": [],
   "source": [
    "# obtain minima of given muscle data\n",
    "from scipy.signal import argrelextrema\n",
    "def getPeaks(position):\n",
    "    indices = np.array(argrelextrema(position, np.less))\n",
    "    return indices"
   ]
  },
  {
   "cell_type": "markdown",
   "metadata": {},
   "source": [
    "##### Obtaining muscle and reference peak indices"
   ]
  },
  {
   "cell_type": "code",
   "execution_count": 162,
   "metadata": {
    "collapsed": true
   },
   "outputs": [],
   "source": [
    "def movingAvg(data, window_size):\n",
    "    a = []\n",
    "    for i in range(len(data)):\n",
    "        a.append(np.ma.average(data[np.clip(i-window_size,0,len(data)):np.clip(i,0,len(data))]))\n",
    "    return np.array(a)"
   ]
  },
  {
   "cell_type": "code",
   "execution_count": 163,
   "metadata": {
    "collapsed": true
   },
   "outputs": [],
   "source": [
    "# remove indices above/below cutoff times from peaks\n",
    "def trim(indices,t_start,t_end):\n",
    "    i_start = int(t_start/0.020)\n",
    "    i_end = int(t_end/0.020)\n",
    "    indices[indices < i_start] = 0\n",
    "    indices[indices > i_end] = 0\n",
    "    indices = np.trim_zeros(indices)\n",
    "    return indices"
   ]
  },
  {
   "cell_type": "code",
   "execution_count": 222,
   "metadata": {
    "collapsed": true
   },
   "outputs": [],
   "source": [
    "# For FB to FS\n",
    "# change muscle = muscle 2 i.e. position[:,3]\n",
    "# take moving average in attempt to differentiate two consecutive points with the same value\n",
    "muscle = movingAvg(pos[:,12],6)\n",
    "muscle_peaks = getPeaks(muscle)[0]\n",
    "muscle_peaks = trim(muscle_peaks,t_start,t_end)\n",
    "\n",
    "# reference muscle = muscle 5 i.e. position[:,5]\n",
    "ref = movingAvg(pos[:,5],6)\n",
    "ref_peaks = getPeaks(ref)[0]\n",
    "ref_peaks = trim(ref_peaks,t_start,t_end)\n",
    "\n",
    "muscle_peaks,ref_peaks = fixPeaksForReal(muscle_peaks,ref_peaks)\n",
    "# target muscle has 3 peaks after end of experiment -> remove these\n",
    "#muscle_peaks = muscle_peaks[:-3]\n",
    "# reference muscle has 4 peaks after end of experiment -> remove these\n",
    "#ref_peaks = ref_peaks[:-2]\n"
   ]
  },
  {
   "cell_type": "code",
   "execution_count": 56,
   "metadata": {
    "collapsed": true
   },
   "outputs": [],
   "source": [
    "avg_dist = np.ma.average((ref_peaks-np.roll(ref_peaks,1))[1:])\n",
    "std_dist = np.std((ref_peaks-np.roll(ref_peaks,1))[1:])"
   ]
  },
  {
   "cell_type": "markdown",
   "metadata": {},
   "source": [
    "##### Behavior period and reference distance"
   ]
  },
  {
   "cell_type": "code",
   "execution_count": 57,
   "metadata": {
    "collapsed": true
   },
   "outputs": [],
   "source": [
    "avg_period = (1358.5-717.0)/5\n",
    "dist = 758.0 - 808.0"
   ]
  },
  {
   "cell_type": "markdown",
   "metadata": {},
   "source": [
    "##### Phase plot"
   ]
  },
  {
   "cell_type": "code",
   "execution_count": 58,
   "metadata": {
    "collapsed": true,
    "scrolled": true
   },
   "outputs": [],
   "source": [
    "y = ((muscle_peaks-ref_peaks))/avg_dist*360#-dist)#/avg_dist*360"
   ]
  },
  {
   "cell_type": "code",
   "execution_count": 60,
   "metadata": {
    "collapsed": true
   },
   "outputs": [],
   "source": [
    "#x = np.around(time[muscle_peaks]-time[0],2)"
   ]
  },
  {
   "cell_type": "code",
   "execution_count": 61,
   "metadata": {
    "collapsed": true
   },
   "outputs": [],
   "source": [
    "x = (weights[muscle_peaks-offset][:,1]-0.4)/0.6*100"
   ]
  },
  {
   "cell_type": "code",
   "execution_count": 62,
   "metadata": {},
   "outputs": [
    {
     "data": {
      "image/png": "[encoded data removed]",
      "text/plain": [
       "<matplotlib.figure.Figure at 0x7f671430bbd0>"
      ]
     },
     "metadata": {},
     "output_type": "display_data"
    }
   ],
   "source": [
    "plt.figure(1)\n",
    "color_pallette = ['#2274A5', '#B4656F', '#4E937A', '#F3D34A', '#A11692', '#F75C03', '#F1C40F', '#D90368', '#00CC66', '#540B0E', '#2274A5', '#B4656F', '#4E937A', '#F3D34A']\n",
    "plt.plot(x,y,color=color_pallette[12])\n",
    "plt.show()"
   ]
  },
  {
   "cell_type": "code",
   "execution_count": null,
   "metadata": {
    "collapsed": true
   },
   "outputs": [],
   "source": []
  }
 ],
 "metadata": {
  "kernelspec": {
   "display_name": "Python 3",
   "language": "python",
   "name": "python3"
  },
  "language_info": {
   "codemirror_mode": {
    "name": "ipython",
    "version": 2
   },
   "file_extension": ".py",
   "mimetype": "text/x-python",
   "name": "python",
   "nbconvert_exporter": "python",
   "pygments_lexer": "ipython2",
   "version": "2.7.12"
  }
 },
 "nbformat": 4,
 "nbformat_minor": 2
}
