{
 "cells": [
  {
   "cell_type": "code",
   "execution_count": 1,
   "metadata": {},
   "outputs": [],
   "source": [
    "import RMS"
   ]
  },
  {
   "cell_type": "code",
   "execution_count": 19,
   "metadata": {},
   "outputs": [
    {
     "data": {
      "text/plain": [
       "<module 'RMS' from 'RMS.py'>"
      ]
     },
     "execution_count": 19,
     "metadata": {},
     "output_type": "execute_result"
    },
    {
     "name": "stdout",
     "output_type": "stream",
     "text": [
      "\n"
     ]
    }
   ],
   "source": [
    "reload(RMS)"
   ]
  },
  {
   "cell_type": "code",
   "execution_count": 20,
   "metadata": {},
   "outputs": [],
   "source": [
    "path = \"/media/markus/OS/Users/Sefi/Dropbox/data/\"\n",
    "global position_to_rads\n",
    "global displacement_to_N\n",
    "global base_files\n",
    "global base_times\n",
    "global matrix_filename_to_base_index\n",
    "\n",
    "# obtain baseline\n",
    "global fb_base\n",
    "global fs_base\n",
    "global sd_base\n",
    "global baseline\n",
    "\n",
    "position_to_rads = 2.0*3.14159/(2000.0*53.0);\n",
    "displacement_to_N = 0.237536\n",
    "base_files = [path+\"steps_fb_fs/0_rising/0_rising_2017-09-14-20-22-54.bag\",path+\"steps_fb_fs/0_rising/0_rising_2017-09-14-20-22-54.bag\", path+\"steps_fb_sd/0_rising/steps_fb_sd_0_rising_2017-09-14-23-37-30.bag\"]\n",
    "base_times = [(16.828+1505413374.96, 19.395+1505413374.96),(30.919+1505413374.96,33.516+1505413374.96),(37.353+1505425050.4,39.785+1505425050.4)]\n",
    "matrix_filename_to_base_index = {'front_back.dep':0, 'front_side.dep':1, 'side_down.dep':2}\n",
    "\n",
    "fb_base = RMS.getData(base_files[0],base_times[0][0],base_times[0][1])\n",
    "fs_base = RMS.getData(base_files[1],base_times[1][0],base_times[1][1])\n",
    "sd_base = RMS.getData(base_files[2],base_times[2][0],base_times[2][1])\n",
    "baseline = [fb_base,fs_base,sd_base]\n"
   ]
  },
  {
   "cell_type": "code",
   "execution_count": 21,
   "metadata": {},
   "outputs": [
    {
     "name": "stdout",
     "output_type": "stream",
     "text": [
      "side_down.dep 1 1505939642.46 0.5\n",
      "front_back.dep 1 1505939651.29 0.5\n",
      "side_down.dep 1 1505939659.44 0.5\n",
      "front_back.dep 1 1505939666.22 0.5\n",
      "side_down.dep 1 1505939676.75 1.0\n",
      "front_back.dep 1 1505939685.95 1.0\n",
      "side_down.dep 1 1505939693.25 1.0\n",
      "front_back.dep 1 1505939700.61 1.0\n",
      "side_down.dep 1 1505939713.73 2.0\n",
      "front_back.dep 1 1505939721.35 2.0\n",
      "side_down.dep 1 1505939731.31 2.0\n",
      "front_back.dep 1 1505939738.29 2.0\n",
      "side_down.dep 1 1505939751.76 5.0\n",
      "front_back.dep 1 1505939762.39 5.0\n",
      "side_down.dep 1 1505939774.19 5.0\n",
      "front_back.dep 1 1505939782.37 5.0\n",
      "side_down.dep 1 1505939794.76 10.0\n",
      "front_back.dep 1 1505939802.02 10.0\n",
      "side_down.dep 1 1505939811.99 10.0\n",
      "front_back.dep 1 1505939822.69 10.0\n",
      "side_down.dep 1 1505939838.8 20.0\n",
      "front_back.dep 1 1505939849.91 20.0\n",
      "side_down.dep 1 1505939860.3 20.0\n",
      "front_back.dep 1 1505939869.66 20.0\n",
      "side_down.dep 1 1505939883.53 20.0\n",
      "front_back.dep 1 1505939891.35 20.0\n",
      "side_down.dep 1 1505939902.29 50.0\n",
      "front_back.dep 1 1505939911.42 50.0\n",
      "side_down.dep 1 1505939921.01 50.0\n",
      "front_back.dep 1 1505939931.66 50.0\n",
      "side_down.dep 1 1505939958.72 100.0\n",
      "front_back.dep 1 1505939969.59 100.0\n",
      "side_down.dep 1 1505939978.9 100.0\n",
      "front_back.dep 1 1505939990.31 100.0\n"
     ]
    }
   ],
   "source": [
    "transitions = RMS.getTransitions(\"/media/markus/OS/Users/Sefi/Dropbox/ramps_fb_sd_2017-09-20-22-33-56.bag\")"
   ]
  },
  {
   "cell_type": "code",
   "execution_count": 30,
   "metadata": {},
   "outputs": [
    {
     "data": {
      "text/plain": [
       "316"
      ]
     },
     "execution_count": 30,
     "metadata": {},
     "output_type": "execute_result"
    }
   ],
   "source": [
    "1505939958-1505939642"
   ]
  },
  {
   "cell_type": "code",
   "execution_count": 37,
   "metadata": {},
   "outputs": [
    {
     "name": "stdout",
     "output_type": "stream",
     "text": [
      "8.84999990463\n",
      "17.6809072495\n",
      "25.8377799988\n",
      "32.6171798706\n",
      "43.1445655823\n",
      "52.3456282616\n",
      "59.6404781342\n",
      "67.0003523827\n",
      "80.1240193844\n",
      "87.7446107864\n",
      "97.7043931484\n",
      "104.680631638\n",
      "118.158549786\n",
      "128.786804914\n",
      "140.588279009\n",
      "148.769477844\n",
      "161.153652906\n",
      "168.417467833\n",
      "178.386392117\n",
      "189.083762169\n",
      "205.19933486\n",
      "216.307345629\n",
      "226.6971035\n",
      "236.057233334\n",
      "249.922833204\n",
      "257.74298501\n",
      "268.687299967\n",
      "277.819211245\n",
      "287.402639389\n",
      "298.054867506\n",
      "325.118227243\n",
      "335.984959364\n",
      "345.295159101\n",
      "356.702293396\n"
     ]
    }
   ],
   "source": [
    "for transition in transitions:\n",
    "    try:\n",
    "        t0\n",
    "    except:\n",
    "        t0 = transition.start-8.85\n",
    "    print transition.start-t0"
   ]
  },
  {
   "cell_type": "code",
   "execution_count": 1,
   "metadata": {},
   "outputs": [
    {
     "data": {
      "text/plain": [
       "180"
      ]
     },
     "execution_count": 1,
     "metadata": {},
     "output_type": "execute_result"
    }
   ],
   "source": [
    "720/4"
   ]
  },
  {
   "cell_type": "code",
   "execution_count": 2,
   "metadata": {},
   "outputs": [
    {
     "data": {
      "text/plain": [
       "135"
      ]
     },
     "execution_count": 2,
     "metadata": {},
     "output_type": "execute_result"
    }
   ],
   "source": [
    "540/4"
   ]
  },
  {
   "cell_type": "code",
   "execution_count": null,
   "metadata": {},
   "outputs": [],
   "source": []
  }
 ],
 "metadata": {
  "kernelspec": {
   "display_name": "Python 2",
   "language": "python",
   "name": "python2"
  },
  "language_info": {
   "codemirror_mode": {
    "name": "ipython",
    "version": 3
   },
   "file_extension": ".py",
   "mimetype": "text/x-python",
   "name": "python",
   "nbconvert_exporter": "python",
   "pygments_lexer": "ipython3",
   "version": "3.5.2"
  }
 },
 "nbformat": 4,
 "nbformat_minor": 2
}
