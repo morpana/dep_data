{
 "cells": [
  {
   "cell_type": "code",
   "execution_count": 9,
   "metadata": {},
   "outputs": [],
   "source": [
    "# compare phase vs. percent transition\n",
    "# compare amplitude vs. percent transition"
   ]
  },
  {
   "cell_type": "code",
   "execution_count": 10,
   "metadata": {},
   "outputs": [],
   "source": [
    "import sys\n",
    "import rosbag\n",
    "import matplotlib.pyplot as plt\n",
    "import numpy as np"
   ]
  },
  {
   "cell_type": "code",
   "execution_count": 11,
   "metadata": {},
   "outputs": [],
   "source": [
    "# obtain percent transition vs. time\n",
    "def getWeights(filename):\n",
    "    weights = []\n",
    "    times = []\n",
    "    bag = rosbag.Bag(filename)\n",
    "    for topic, msg, t in bag.read_messages(topics=[\"/roboy_dep/linear_combination\"]):\n",
    "        weights.append(msg.weights)\n",
    "        times.append(t.to_sec())\n",
    "    bag.close()\n",
    "    return np.array(weights), np.array(times)"
   ]
  },
  {
   "cell_type": "code",
   "execution_count": 12,
   "metadata": {},
   "outputs": [],
   "source": [
    "filename = \"/home/roboy/dep_data/data/combination/10FB04FS_04FB10FS_200s_2017-10-18-12-50-31.bag\""
   ]
  },
  {
   "cell_type": "code",
   "execution_count": 13,
   "metadata": {},
   "outputs": [],
   "source": [
    "weights, times = getWeights(filename)"
   ]
  },
  {
   "cell_type": "code",
   "execution_count": 14,
   "metadata": {},
   "outputs": [],
   "source": [
    "# obtain data from file\n",
    "def getData(filename):\n",
    "    position_to_rads = 2.0*3.14159/(2000.0*53.0);\n",
    "    displacement_to_N = 0.237536\n",
    "    time = []\n",
    "    pos = []\n",
    "    force = []\n",
    "    bag = rosbag.Bag(filename)\n",
    "    for topic, msg, t in bag.read_messages(topics=[\"/roboy/middleware/MotorStatus\"]):\n",
    "        pos.append(msg.position)\n",
    "        force.append(msg.displacement)\n",
    "        time.append(t.to_sec())\n",
    "    bag.close()\n",
    "    time = np.array(time)\n",
    "    pos = np.array(pos)*position_to_rads\n",
    "    force = np.array(force)*displacement_to_N\n",
    "    return time, pos, force"
   ]
  },
  {
   "cell_type": "code",
   "execution_count": 15,
   "metadata": {},
   "outputs": [],
   "source": [
    "time, pos, force = getData(filename)"
   ]
  },
  {
   "cell_type": "code",
   "execution_count": 16,
   "metadata": {},
   "outputs": [],
   "source": [
    "# need to remove bit of recording before and after actual experiment\n",
    "# inspect plot and provide approximate cutoff times\n",
    "t_start = 4.3\n",
    "t_end = 205.0"
   ]
  },
  {
   "cell_type": "code",
   "execution_count": 17,
   "metadata": {},
   "outputs": [
    {
     "ename": "ImportError",
     "evalue": "No module named scipy.signal",
     "output_type": "error",
     "traceback": [
      "\u001b[0;31m---------------------------------------------------------------------------\u001b[0m",
      "\u001b[0;31mImportError\u001b[0m                               Traceback (most recent call last)",
      "\u001b[0;32m<ipython-input-17-e0cef687dae3>\u001b[0m in \u001b[0;36m<module>\u001b[0;34m()\u001b[0m\n\u001b[1;32m      1\u001b[0m \u001b[0;31m# obtain minima of given muscle data\u001b[0m\u001b[0;34m\u001b[0m\u001b[0;34m\u001b[0m\u001b[0m\n\u001b[0;32m----> 2\u001b[0;31m \u001b[0;32mfrom\u001b[0m \u001b[0mscipy\u001b[0m\u001b[0;34m.\u001b[0m\u001b[0msignal\u001b[0m \u001b[0;32mimport\u001b[0m \u001b[0margrelextrema\u001b[0m\u001b[0;34m\u001b[0m\u001b[0m\n\u001b[0m\u001b[1;32m      3\u001b[0m \u001b[0;32mdef\u001b[0m \u001b[0mgetPeaks\u001b[0m\u001b[0;34m(\u001b[0m\u001b[0mposition\u001b[0m\u001b[0;34m)\u001b[0m\u001b[0;34m:\u001b[0m\u001b[0;34m\u001b[0m\u001b[0m\n\u001b[1;32m      4\u001b[0m     \u001b[0mindices\u001b[0m \u001b[0;34m=\u001b[0m \u001b[0mnp\u001b[0m\u001b[0;34m.\u001b[0m\u001b[0marray\u001b[0m\u001b[0;34m(\u001b[0m\u001b[0margrelextrema\u001b[0m\u001b[0;34m(\u001b[0m\u001b[0mposition\u001b[0m\u001b[0;34m,\u001b[0m \u001b[0mnp\u001b[0m\u001b[0;34m.\u001b[0m\u001b[0mless\u001b[0m\u001b[0;34m)\u001b[0m\u001b[0;34m)\u001b[0m\u001b[0;34m\u001b[0m\u001b[0m\n\u001b[1;32m      5\u001b[0m     \u001b[0;32mreturn\u001b[0m \u001b[0mindices\u001b[0m\u001b[0;34m\u001b[0m\u001b[0m\n",
      "\u001b[0;31mImportError\u001b[0m: No module named scipy.signal"
     ]
    }
   ],
   "source": [
    "# obtain minima of given muscle data\n",
    "from scipy.signal import argrelextrema\n",
    "def getPeaks(position):\n",
    "    indices = np.array(argrelextrema(position, np.less))\n",
    "    return indices"
   ]
  },
  {
   "cell_type": "markdown",
   "metadata": {},
   "source": [
    "We can calculate an approximate phase of a given muscle relative to its counter part in a given behavior by: \n",
    "1. calculating the relative position of the muscle in comparison with an unchanging muscle through comparing time difference between peaks, \n",
    "2. calculating the original time difference between peaks for the muscle in the original behavior, and \n",
    "3. calculating a phase by comparing the total time difference relative to the period"
   ]
  },
  {
   "cell_type": "markdown",
   "metadata": {},
   "source": [
    "##### Obtaining muscle and reference peak indices"
   ]
  },
  {
   "cell_type": "code",
   "execution_count": null,
   "metadata": {},
   "outputs": [],
   "source": [
    "def movingAvg(data, window_size):\n",
    "    a = []\n",
    "    for i in range(len(data)):\n",
    "        a.append(np.ma.average(data[np.clip(i-int(window_size/2),0,len(data)):np.clip(i+int(window_size/2),0,len(data))]))\n",
    "    return np.array(a)"
   ]
  },
  {
   "cell_type": "code",
   "execution_count": null,
   "metadata": {},
   "outputs": [],
   "source": [
    "# remove indices above/below cutoff times from peaks\n",
    "def trim(indices,t_start,t_end):\n",
    "    i_start = int(t_start/0.020)\n",
    "    i_end = int(t_end/0.020)\n",
    "    indices[indices < i_start] = 0\n",
    "    indices[indices > i_end] = 0\n",
    "    indices = np.trim_zeros(indices)\n",
    "    return indices"
   ]
  },
  {
   "cell_type": "code",
   "execution_count": null,
   "metadata": {},
   "outputs": [],
   "source": [
    "# For FB to FS\n",
    "# change muscle = muscle 2 i.e. position[:,3]\n",
    "# take moving average in attempt to differentiate two consecutive points with the same value\n",
    "muscle = movingAvg(pos[:,3],3)\n",
    "muscle_peaks = getPeaks(muscle)[0]\n",
    "muscle_peaks = trim(muscle_peaks,t_start,t_end)\n",
    "# reference muscle = muscle 5 i.e. position[:,5]\n",
    "ref = movingAvg(pos[:,5],3)\n",
    "ref_peaks = getPeaks(ref)[0]\n",
    "ref_peaks = trim(ref_peaks,t_start,t_end)\n",
    "\n",
    "# target muscle has 3 peaks after end of experiment -> remove these\n",
    "#muscle_peaks = muscle_peaks[:-3]\n",
    "# reference muscle has 4 peaks after end of experiment -> remove these\n",
    "#ref_peaks = ref_peaks[:-2]\n"
   ]
  },
  {
   "cell_type": "code",
   "execution_count": null,
   "metadata": {},
   "outputs": [],
   "source": [
    "print muscle_peaks, ref_peaks"
   ]
  },
  {
   "cell_type": "code",
   "execution_count": null,
   "metadata": {},
   "outputs": [],
   "source": [
    "avg_dist = np.ma.average((ref_peaks-np.roll(ref_peaks,1))[1:])\n",
    "std_dist = np.std((ref_peaks-np.roll(ref_peaks,1))[1:])\n",
    "print avg_dist, std_dist"
   ]
  },
  {
   "cell_type": "markdown",
   "metadata": {},
   "source": [
    "##### Behavior period and reference distance"
   ]
  },
  {
   "cell_type": "code",
   "execution_count": null,
   "metadata": {},
   "outputs": [],
   "source": [
    "avg_period = (1358.5-717.0)/5\n",
    "dist = 758.0 - 808.0"
   ]
  },
  {
   "cell_type": "markdown",
   "metadata": {},
   "source": [
    "##### Phase plot"
   ]
  },
  {
   "cell_type": "code",
   "execution_count": null,
   "metadata": {
    "scrolled": true
   },
   "outputs": [],
   "source": [
    "y = ((muscle_peaks-ref_peaks))/avg_dist*360#-dist)#/avg_dist*360\n",
    "y"
   ]
  },
  {
   "cell_type": "code",
   "execution_count": null,
   "metadata": {},
   "outputs": [],
   "source": [
    "x = np.around(times[muscle_peaks]-times[0],2)"
   ]
  },
  {
   "cell_type": "code",
   "execution_count": null,
   "metadata": {},
   "outputs": [],
   "source": [
    "plt.figure(1)\n",
    "plt.plot(x,y)\n",
    "plt.show()"
   ]
  },
  {
   "cell_type": "code",
   "execution_count": 1,
   "metadata": {},
   "outputs": [
    {
     "ename": "NameError",
     "evalue": "name 'np' is not defined",
     "output_type": "error",
     "traceback": [
      "\u001b[0;31m---------------------------------------------------------------------------\u001b[0m",
      "\u001b[0;31mNameError\u001b[0m                                 Traceback (most recent call last)",
      "\u001b[0;32m<ipython-input-1-eff9f6571c6f>\u001b[0m in \u001b[0;36m<module>\u001b[0;34m()\u001b[0m\n\u001b[0;32m----> 1\u001b[0;31m \u001b[0ma\u001b[0m \u001b[0;34m=\u001b[0m \u001b[0mnp\u001b[0m\u001b[0;34m.\u001b[0m\u001b[0marray\u001b[0m\u001b[0;34m(\u001b[0m\u001b[0mrange\u001b[0m\u001b[0;34m(\u001b[0m\u001b[0;36m11\u001b[0m\u001b[0;34m)\u001b[0m\u001b[0;34m)\u001b[0m\u001b[0;34m\u001b[0m\u001b[0m\n\u001b[0m",
      "\u001b[0;31mNameError\u001b[0m: name 'np' is not defined"
     ]
    }
   ],
   "source": [
    "a = np.array(range(11))"
   ]
  },
  {
   "cell_type": "code",
   "execution_count": null,
   "metadata": {},
   "outputs": [],
   "source": []
  }
 ],
 "metadata": {
  "kernelspec": {
   "display_name": "Python 2",
   "language": "python",
   "name": "python2"
  },
  "language_info": {
   "codemirror_mode": {
    "name": "ipython",
    "version": 2
   },
   "file_extension": ".py",
   "mimetype": "text/x-python",
   "name": "python",
   "nbconvert_exporter": "python",
   "pygments_lexer": "ipython2",
   "version": "2.7.12"
  }
 },
 "nbformat": 4,
 "nbformat_minor": 2
}
