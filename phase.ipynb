{
 "cells": [
  {
   "cell_type": "code",
   "execution_count": 318,
   "metadata": {
    "collapsed": true
   },
   "outputs": [],
   "source": [
    "# compare phase vs. percent transition\n",
    "# compare amplitude vs. percent transition"
   ]
  },
  {
   "cell_type": "code",
   "execution_count": 319,
   "metadata": {
    "collapsed": true
   },
   "outputs": [],
   "source": [
    "import sys\n",
    "import rosbag\n",
    "import matplotlib.pyplot as plt\n",
    "import numpy as np"
   ]
  },
  {
   "cell_type": "code",
   "execution_count": 320,
   "metadata": {
    "collapsed": true
   },
   "outputs": [],
   "source": [
    "# obtain percent transition vs. time\n",
    "def getWeights(filename):\n",
    "    weights = []\n",
    "    times = []\n",
    "    bag = rosbag.Bag(filename)\n",
    "    for topic, msg, t in bag.read_messages(topics=[\"/roboy_dep/linear_combination\"]):\n",
    "        weights.append(msg.weights)\n",
    "        times.append(t.to_sec())\n",
    "    bag.close()\n",
    "    return np.array(weights), np.array(times)"
   ]
  },
  {
   "cell_type": "code",
   "execution_count": 321,
   "metadata": {
    "collapsed": true
   },
   "outputs": [],
   "source": [
    "filename = \"/home/roboy/dep_data/data/combination/10FB04FS_04FB10FS_200s_2017-10-18-12-50-31.bag\""
   ]
  },
  {
   "cell_type": "code",
   "execution_count": 322,
   "metadata": {},
   "outputs": [],
   "source": [
    "weights, times = getWeights(filename)"
   ]
  },
  {
   "cell_type": "code",
   "execution_count": 323,
   "metadata": {
    "collapsed": true
   },
   "outputs": [],
   "source": [
    "# obtain data from file\n",
    "def getData(filename):\n",
    "    position_to_rads = 2.0*3.14159/(2000.0*53.0);\n",
    "    displacement_to_N = 0.237536\n",
    "    time = []\n",
    "    pos = []\n",
    "    force = []\n",
    "    bag = rosbag.Bag(filename)\n",
    "    for topic, msg, t in bag.read_messages(topics=[\"/roboy/middleware/MotorStatus\"]):\n",
    "        pos.append(msg.position)\n",
    "        force.append(msg.displacement)\n",
    "        time.append(t.to_sec())\n",
    "    bag.close()\n",
    "    time = np.array(time)\n",
    "    pos = np.array(pos)*position_to_rads\n",
    "    force = np.array(force)*displacement_to_N\n",
    "    return time, pos, force"
   ]
  },
  {
   "cell_type": "code",
   "execution_count": 324,
   "metadata": {
    "collapsed": true
   },
   "outputs": [],
   "source": [
    "time, pos, force = getData(filename)"
   ]
  },
  {
   "cell_type": "code",
   "execution_count": 325,
   "metadata": {
    "collapsed": true
   },
   "outputs": [],
   "source": [
    "# obtain peaks of given muscle data\n",
    "from scipy.signal import argrelextrema\n",
    "def getPeaks(position):\n",
    "    indices = np.array(argrelextrema(position, np.less))\n",
    "    return indices"
   ]
  },
  {
   "cell_type": "markdown",
   "metadata": {},
   "source": [
    "We can calculate an approximate phase of a given muscle relative to its counter part in a given behavior by: \n",
    "1. calculating the relative position of the muscle in comparison with an unchanging muscle through comparing time difference between peaks, \n",
    "2. calculating the original time difference between peaks for the muscle in the original behavior, and \n",
    "3. calculating a phase by comparing the total time difference relative to the period"
   ]
  },
  {
   "cell_type": "markdown",
   "metadata": {},
   "source": [
    "##### Obtaining muscle and reference peak indices"
   ]
  },
  {
   "cell_type": "code",
   "execution_count": 326,
   "metadata": {
    "collapsed": true
   },
   "outputs": [],
   "source": [
    "def movingAvg(data, window_size):\n",
    "    a = data\n",
    "    b = data\n",
    "    for i in range(len(a)):\n",
    "        b[i] = np.ma.average(a[np.clip(i-int(window_size/2),0,len(a)):np.clip(i+int(window_size/2),0,len(a))])\n",
    "    return b"
   ]
  },
  {
   "cell_type": "code",
   "execution_count": 327,
   "metadata": {},
   "outputs": [],
   "source": [
    "# For FB to FS\n",
    "# change muscle = muscle 2 i.e. position[:,3]\n",
    "muscle = pos[:,3]\n",
    "muscle_peaks = getPeaks(muscle)[0]\n",
    "# reference muscle = muscle 5 i.e. position[:,5]\n",
    "ref = pos[:,5]\n",
    "ref_peaks = getPeaks(ref)[0]\n",
    "\n",
    "# target muscle has 3 peaks after end of experiment -> remove these\n",
    "muscle_peaks = muscle_peaks[:-3]\n",
    "# reference muscle has 4 peaks after end of experiment -> remove these\n",
    "ref_peaks = ref_peaks[:-4]\n"
   ]
  },
  {
   "cell_type": "code",
   "execution_count": 328,
   "metadata": {},
   "outputs": [
    {
     "data": {
      "text/plain": [
       "(77,)"
      ]
     },
     "execution_count": 328,
     "metadata": {},
     "output_type": "execute_result"
    }
   ],
   "source": [
    "muscle_peaks.shape"
   ]
  },
  {
   "cell_type": "code",
   "execution_count": 329,
   "metadata": {},
   "outputs": [
    {
     "data": {
      "text/plain": [
       "79"
      ]
     },
     "execution_count": 329,
     "metadata": {},
     "output_type": "execute_result"
    }
   ],
   "source": [
    "awd = movingAvg(muscle,1000)\n",
    "getPeaks(awd).size"
   ]
  },
  {
   "cell_type": "code",
   "execution_count": 330,
   "metadata": {},
   "outputs": [
    {
     "data": {
      "image/png": "[encoded data removed]",
      "text/plain": [
       "<matplotlib.figure.Figure at 0x7f60efa19410>"
      ]
     },
     "metadata": {},
     "output_type": "display_data"
    }
   ],
   "source": [
    "plt.figure(1)\n",
    "plt.plot(awd)\n",
    "plt.show()"
   ]
  },
  {
   "cell_type": "code",
   "execution_count": 268,
   "metadata": {},
   "outputs": [
    {
     "name": "stdout",
     "output_type": "stream",
     "text": [
      "(73,) (73,)\n"
     ]
    }
   ],
   "source": [
    "print ref_peaks.shape, muscle_peaks.shape"
   ]
  },
  {
   "cell_type": "code",
   "execution_count": 239,
   "metadata": {},
   "outputs": [
    {
     "name": "stdout",
     "output_type": "stream",
     "text": [
      "136.569444444 25.1450383823\n"
     ]
    }
   ],
   "source": [
    "avg_dist = np.ma.average((ref_peaks-np.roll(ref_peaks,1))[1:])\n",
    "std_dist = np.std((ref_peaks-np.roll(ref_peaks,1))[1:])\n",
    "print avg_dist, std_dist"
   ]
  },
  {
   "cell_type": "markdown",
   "metadata": {},
   "source": [
    "##### Behavior period and reference distance"
   ]
  },
  {
   "cell_type": "code",
   "execution_count": 217,
   "metadata": {
    "collapsed": true
   },
   "outputs": [],
   "source": [
    "avg_period = (1358.5-717.0)/5\n",
    "dist = 758.0 - 808.0"
   ]
  },
  {
   "cell_type": "markdown",
   "metadata": {},
   "source": [
    "##### Phase plot"
   ]
  },
  {
   "cell_type": "code",
   "execution_count": 227,
   "metadata": {},
   "outputs": [
    {
     "data": {
      "text/plain": [
       "array([-109.55265797,  -96.19257773, -104.20862588, -101.53660983,\n",
       "       -101.53660983, -104.20862588, -104.20862588, -106.88064193,\n",
       "       -106.88064193, -106.88064193, -106.88064193, -106.88064193,\n",
       "       -109.55265797, -112.22467402, -112.22467402, -114.89669007,\n",
       "       -114.89669007, -117.56870612, -117.56870612, -117.56870612,\n",
       "       -120.24072217, -120.24072217, -120.24072217, -120.24072217,\n",
       "       -122.91273821, -122.91273821, -122.91273821, -122.91273821,\n",
       "       -122.91273821, -122.91273821, -122.91273821, -122.91273821,\n",
       "       -122.91273821, -122.91273821, -122.91273821, -120.24072217,\n",
       "       -117.56870612, -109.55265797,  -90.84854564,    8.01604814,\n",
       "         37.40822467,   40.08024072,   42.75225677,   45.42427282,\n",
       "         45.42427282,   48.09628887,   48.09628887,   48.09628887,\n",
       "         50.76830491,   48.09628887,   50.76830491,   50.76830491,\n",
       "         53.44032096,   50.76830491,   53.44032096,   53.44032096,\n",
       "         53.44032096,   56.11233701,   56.11233701,   58.78435306,\n",
       "         61.45636911,   64.12838516,   64.12838516,   64.12838516,\n",
       "         66.8004012 ,   66.8004012 ,   66.8004012 ,   69.47241725,\n",
       "         72.1444333 ,   72.1444333 ,   74.81644935,   74.81644935,\n",
       "         74.81644935,   74.81644935,   77.4884654 ])"
      ]
     },
     "execution_count": 227,
     "metadata": {},
     "output_type": "execute_result"
    }
   ],
   "source": [
    "y = ((muscle_peaks-ref_peaks)-dist)/avg_dist*360\n",
    "y"
   ]
  },
  {
   "cell_type": "code",
   "execution_count": 225,
   "metadata": {},
   "outputs": [],
   "source": [
    "x = np.around(times[muscle_peaks]-times[0],2)"
   ]
  },
  {
   "cell_type": "code",
   "execution_count": 226,
   "metadata": {},
   "outputs": [
    {
     "data": {
      "image/png": "[encoded data removed]",
      "text/plain": [
       "<matplotlib.figure.Figure at 0x7f60ecf56590>"
      ]
     },
     "metadata": {},
     "output_type": "display_data"
    }
   ],
   "source": [
    "plt.figure(1)\n",
    "plt.plot(x,y)\n",
    "plt.show()"
   ]
  },
  {
   "cell_type": "code",
   "execution_count": null,
   "metadata": {
    "collapsed": true
   },
   "outputs": [],
   "source": []
  }
 ],
 "metadata": {
  "kernelspec": {
   "display_name": "Python 3",
   "language": "python",
   "name": "python3"
  },
  "language_info": {
   "codemirror_mode": {
    "name": "ipython",
    "version": 2
   },
   "file_extension": ".py",
   "mimetype": "text/x-python",
   "name": "python",
   "nbconvert_exporter": "python",
   "pygments_lexer": "ipython2",
   "version": "2.7.12"
  }
 },
 "nbformat": 4,
 "nbformat_minor": 2
}
