{
 "cells": [
  {
   "cell_type": "code",
   "execution_count": 88,
   "metadata": {
    "collapsed": true
   },
   "outputs": [],
   "source": [
    "# compare phase vs. percent transition\n",
    "# compare amplitude vs. percent transition"
   ]
  },
  {
   "cell_type": "code",
   "execution_count": 89,
   "metadata": {
    "collapsed": true
   },
   "outputs": [],
   "source": [
    "import sys\n",
    "import rosbag\n",
    "import matplotlib.pyplot as plt\n",
    "import numpy as np"
   ]
  },
  {
   "cell_type": "code",
   "execution_count": 90,
   "metadata": {
    "collapsed": true
   },
   "outputs": [],
   "source": [
    "# obtain percent transition vs. time\n",
    "def getWeights(filename):\n",
    "    weights = []\n",
    "    times = []\n",
    "    bag = rosbag.Bag(filename)\n",
    "    for topic, msg, t in bag.read_messages(topics=[\"/roboy_dep/linear_combination\"]):\n",
    "        weights.append(msg.weights)\n",
    "        times.append(t.to_sec())\n",
    "    bag.close()\n",
    "    return np.array(weights), np.array(times)"
   ]
  },
  {
   "cell_type": "code",
   "execution_count": 91,
   "metadata": {
    "collapsed": true
   },
   "outputs": [],
   "source": [
    "filename = \"/home/roboy/dep_data/data/combination/10FB04FS_04FB10FS_200s_2017-10-18-12-50-31.bag\""
   ]
  },
  {
   "cell_type": "code",
   "execution_count": 92,
   "metadata": {
    "collapsed": true
   },
   "outputs": [],
   "source": [
    "weights, times = getWeights(filename)"
   ]
  },
  {
   "cell_type": "code",
   "execution_count": 93,
   "metadata": {
    "collapsed": true
   },
   "outputs": [],
   "source": [
    "# obtain data from file\n",
    "def getData(filename):\n",
    "    position_to_rads = 2.0*3.14159/(2000.0*53.0);\n",
    "    displacement_to_N = 0.237536\n",
    "    time = []\n",
    "    pos = []\n",
    "    force = []\n",
    "    bag = rosbag.Bag(filename)\n",
    "    for topic, msg, t in bag.read_messages(topics=[\"/roboy/middleware/MotorStatus\"]):\n",
    "        pos.append(msg.position)\n",
    "        force.append(msg.displacement)\n",
    "        time.append(t.to_sec())\n",
    "    bag.close()\n",
    "    time = np.array(time)\n",
    "    pos = np.array(pos)*position_to_rads\n",
    "    force = np.array(force)*displacement_to_N\n",
    "    return time, pos, force"
   ]
  },
  {
   "cell_type": "code",
   "execution_count": 94,
   "metadata": {
    "collapsed": true
   },
   "outputs": [],
   "source": [
    "time, pos, force = getData(filename)"
   ]
  },
  {
   "cell_type": "code",
   "execution_count": 95,
   "metadata": {
    "collapsed": true
   },
   "outputs": [],
   "source": [
    "# need to remove bit of recording before and after actual experiment\n",
    "# inspect plot and provide approximate cutoff times\n",
    "t_start = 4.3\n",
    "t_end = 205.0"
   ]
  },
  {
   "cell_type": "code",
   "execution_count": 96,
   "metadata": {
    "collapsed": true
   },
   "outputs": [],
   "source": [
    "# obtain minima of given muscle data\n",
    "from scipy.signal import argrelextrema\n",
    "def getPeaks(position):\n",
    "    indices = np.array(argrelextrema(position, np.less))\n",
    "    return indices"
   ]
  },
  {
   "cell_type": "markdown",
   "metadata": {},
   "source": [
    "We can calculate an approximate phase of a given muscle relative to its counter part in a given behavior by: \n",
    "1. calculating the relative position of the muscle in comparison with an unchanging muscle through comparing time difference between peaks, \n",
    "2. calculating the original time difference between peaks for the muscle in the original behavior, and \n",
    "3. calculating a phase by comparing the total time difference relative to the period"
   ]
  },
  {
   "cell_type": "markdown",
   "metadata": {},
   "source": [
    "##### Obtaining muscle and reference peak indices"
   ]
  },
  {
   "cell_type": "code",
   "execution_count": 97,
   "metadata": {
    "collapsed": true
   },
   "outputs": [],
   "source": [
    "def movingAvg(data, window_size):\n",
    "    a = []\n",
    "    for i in range(len(data)):\n",
    "        a.append(np.ma.average(data[np.clip(i-int(window_size/2),0,len(data)):np.clip(i+int(window_size/2),0,len(data))]))\n",
    "    return np.array(a)"
   ]
  },
  {
   "cell_type": "code",
   "execution_count": 98,
   "metadata": {
    "collapsed": true
   },
   "outputs": [],
   "source": [
    "# remove indices above/below cutoff times from peaks\n",
    "def trim(indices,t_start,t_end):\n",
    "    i_start = int(t_start/0.020)\n",
    "    i_end = int(t_end/0.020)\n",
    "    indices[indices < i_start] = 0\n",
    "    indices[indices > i_end] = 0\n",
    "    indices = np.trim_zeros(indices)\n",
    "    return indices"
   ]
  },
  {
   "cell_type": "code",
   "execution_count": 99,
   "metadata": {},
   "outputs": [],
   "source": [
    "# For FB to FS\n",
    "# change muscle = muscle 2 i.e. position[:,3]\n",
    "# take moving average in attempt to differentiate two consecutive points with the same value\n",
    "muscle = movingAvg(pos[:,3],3)\n",
    "muscle_peaks = getPeaks(muscle)[0]\n",
    "muscle_peaks = trim(muscle_peaks,t_start,t_end)\n",
    "# reference muscle = muscle 5 i.e. position[:,5]\n",
    "ref = movingAvg(pos[:,5],3)\n",
    "ref_peaks = getPeaks(ref)[0]\n",
    "ref_peaks = trim(ref_peaks,t_start,t_end)\n",
    "\n",
    "# target muscle has 3 peaks after end of experiment -> remove these\n",
    "#muscle_peaks = muscle_peaks[:-3]\n",
    "# reference muscle has 4 peaks after end of experiment -> remove these\n",
    "#ref_peaks = ref_peaks[:-2]\n"
   ]
  },
  {
   "cell_type": "code",
   "execution_count": 118,
   "metadata": {},
   "outputs": [
    {
     "name": "stdout",
     "output_type": "stream",
     "text": [
      "[  309   444   579   714   849   984  1119  1254  1389  1523  1658  1792\n",
      "  1927  2061  2196  2330  2464  2598  2732  2866  3000  3134  3268  3402\n",
      "  3537  3671  3805  3939  4073  4208  4342  4477  4612  4747  4883  5019\n",
      "  5156  5296  5349  5484  5619  5754  5888  6023  6157  6292  6427  6562\n",
      "  6696  6831  6966  7101  7235  7370  7505  7639  7774  7909  8043  8178\n",
      "  8313  8448  8583  8718  8853  8988  9124  9259  9395  9531  9667  9803\n",
      "  9939 10075 10211] [  244   380   516   651   786   921  1057  1192  1326  1461  1596  1731\n",
      "  1865  2000  2134  2269  2403  2538  2672  2806  2941  3075  3209  3344\n",
      "  3478  3612  3747  3881  4015  4150  4285  4419  4554  4688  4823  4958\n",
      "  5092  5227  5361  5496  5631  5765  5900  6035  6169  6304  6438  6573\n",
      "  6708  6842  6976  7111  7245  7380  7514  7648  7783  7917  8052  8186\n",
      "  8321  8456  8590  8725  8860  8995  9131  9266  9401  9537  9672  9808\n",
      "  9944 10080 10216]\n"
     ]
    }
   ],
   "source": [
    "print muscle_peaks, ref_peaks"
   ]
  },
  {
   "cell_type": "code",
   "execution_count": 101,
   "metadata": {},
   "outputs": [
    {
     "name": "stdout",
     "output_type": "stream",
     "text": [
      "134.756756757 0.653696574186\n"
     ]
    }
   ],
   "source": [
    "avg_dist = np.ma.average((ref_peaks-np.roll(ref_peaks,1))[1:])\n",
    "std_dist = np.std((ref_peaks-np.roll(ref_peaks,1))[1:])\n",
    "print avg_dist, std_dist"
   ]
  },
  {
   "cell_type": "markdown",
   "metadata": {},
   "source": [
    "##### Behavior period and reference distance"
   ]
  },
  {
   "cell_type": "code",
   "execution_count": 102,
   "metadata": {
    "collapsed": true
   },
   "outputs": [],
   "source": [
    "avg_period = (1358.5-717.0)/5\n",
    "dist = 758.0 - 808.0"
   ]
  },
  {
   "cell_type": "markdown",
   "metadata": {},
   "source": [
    "##### Phase plot"
   ]
  },
  {
   "cell_type": "code",
   "execution_count": 125,
   "metadata": {
    "scrolled": true
   },
   "outputs": [
    {
     "data": {
      "text/plain": [
       "array([ 173.64620939,  170.97472924,  168.3032491 ,  168.3032491 ,\n",
       "        168.3032491 ,  168.3032491 ,  165.63176895,  165.63176895,\n",
       "        168.3032491 ,  165.63176895,  165.63176895,  162.96028881,\n",
       "        165.63176895,  162.96028881,  165.63176895,  162.96028881,\n",
       "        162.96028881,  160.28880866,  160.28880866,  160.28880866,\n",
       "        157.61732852,  157.61732852,  157.61732852,  154.94584838,\n",
       "        157.61732852,  157.61732852,  154.94584838,  154.94584838,\n",
       "        154.94584838,  154.94584838,  152.27436823,  154.94584838,\n",
       "        154.94584838,  157.61732852,  160.28880866,  162.96028881,\n",
       "        170.97472924,  184.33212996,  -32.05776173,  -32.05776173,\n",
       "        -32.05776173,  -29.38628159,  -32.05776173,  -32.05776173,\n",
       "        -32.05776173,  -32.05776173,  -29.38628159,  -29.38628159,\n",
       "        -32.05776173,  -29.38628159,  -26.71480144,  -26.71480144,\n",
       "        -26.71480144,  -26.71480144,  -24.0433213 ,  -24.0433213 ,\n",
       "        -24.0433213 ,  -21.37184116,  -24.0433213 ,  -21.37184116,\n",
       "        -21.37184116,  -21.37184116,  -18.70036101,  -18.70036101,\n",
       "        -18.70036101,  -18.70036101,  -18.70036101,  -18.70036101,\n",
       "        -16.02888087,  -16.02888087,  -13.35740072,  -13.35740072,\n",
       "        -13.35740072,  -13.35740072,  -13.35740072])"
      ]
     },
     "execution_count": 125,
     "metadata": {},
     "output_type": "execute_result"
    }
   ],
   "source": [
    "y = ((muscle_peaks-ref_peaks))/avg_dist*360#-dist)#/avg_dist*360\n",
    "y"
   ]
  },
  {
   "cell_type": "code",
   "execution_count": 126,
   "metadata": {
    "collapsed": true
   },
   "outputs": [],
   "source": [
    "x = np.around(times[muscle_peaks]-times[0],2)"
   ]
  },
  {
   "cell_type": "code",
   "execution_count": 127,
   "metadata": {},
   "outputs": [
    {
     "data": {
      "image/png": "[encoded data removed]",
      "text/plain": [
       "<matplotlib.figure.Figure at 0x7f7ff0cc8790>"
      ]
     },
     "metadata": {},
     "output_type": "display_data"
    }
   ],
   "source": [
    "plt.figure(1)\n",
    "plt.plot(x,y)\n",
    "plt.show()"
   ]
  },
  {
   "cell_type": "code",
   "execution_count": null,
   "metadata": {
    "collapsed": true
   },
   "outputs": [],
   "source": []
  }
 ],
 "metadata": {
  "kernelspec": {
   "display_name": "Python 3",
   "language": "python",
   "name": "python3"
  },
  "language_info": {
   "codemirror_mode": {
    "name": "ipython",
    "version": 2
   },
   "file_extension": ".py",
   "mimetype": "text/x-python",
   "name": "python",
   "nbconvert_exporter": "python",
   "pygments_lexer": "ipython2",
   "version": "2.7.12"
  }
 },
 "nbformat": 4,
 "nbformat_minor": 2
}
